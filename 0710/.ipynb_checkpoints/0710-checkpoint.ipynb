{
 "cells": [
  {
   "cell_type": "code",
   "execution_count": 5,
   "id": "7d10eb86",
   "metadata": {},
   "outputs": [
    {
     "name": "stdout",
     "output_type": "stream",
     "text": [
      "Hello, World\n"
     ]
    }
   ],
   "source": [
    "print('Hello, World')"
   ]
  },
  {
   "cell_type": "code",
   "execution_count": 7,
   "id": "d78a4524",
   "metadata": {},
   "outputs": [
    {
     "name": "stdout",
     "output_type": "stream",
     "text": [
      "이름을 입력하세요 : \n",
      "귀하의 이름은 입니다.\n"
     ]
    }
   ],
   "source": [
    "irum = input('이름을 입력하세요 : ')\n",
    "print('귀하의 이름은 '+irum+'입니다.')"
   ]
  },
  {
   "cell_type": "code",
   "execution_count": 9,
   "id": "ad6c3867",
   "metadata": {},
   "outputs": [
    {
     "data": {
      "text/plain": [
       "str"
      ]
     },
     "execution_count": 9,
     "metadata": {},
     "output_type": "execute_result"
    }
   ],
   "source": [
    "type(irum)"
   ]
  },
  {
   "cell_type": "code",
   "execution_count": 11,
   "id": "4b35dd0d",
   "metadata": {},
   "outputs": [
    {
     "data": {
      "text/plain": [
       "int"
      ]
     },
     "execution_count": 11,
     "metadata": {},
     "output_type": "execute_result"
    }
   ],
   "source": [
    "irum=25\n",
    "type(irum)"
   ]
  },
  {
   "cell_type": "code",
   "execution_count": 12,
   "id": "0a5e87f2",
   "metadata": {},
   "outputs": [
    {
     "data": {
      "text/plain": [
       "float"
      ]
     },
     "execution_count": 12,
     "metadata": {},
     "output_type": "execute_result"
    }
   ],
   "source": [
    "irum=89.5\n",
    "type(irum)"
   ]
  },
  {
   "cell_type": "code",
   "execution_count": 20,
   "id": "6d567c25",
   "metadata": {},
   "outputs": [
    {
     "data": {
      "text/plain": [
       "list"
      ]
     },
     "execution_count": 20,
     "metadata": {},
     "output_type": "execute_result"
    }
   ],
   "source": [
    "irum=[\"사과\", \"망고\", \"바나나\", \"딸기\"]\n",
    "type(irum)"
   ]
  },
  {
   "cell_type": "code",
   "execution_count": 23,
   "id": "2472e3d6",
   "metadata": {},
   "outputs": [],
   "source": [
    "student = {\n",
    "    \"이름\" : \"한지민\",\n",
    "    \"나이\" : 26,\n",
    "    \"주소\" : \"서울시 강남구 역삼동 110-3\"\n",
    "}"
   ]
  },
  {
   "cell_type": "code",
   "execution_count": 25,
   "id": "91daf1d4",
   "metadata": {},
   "outputs": [
    {
     "name": "stdout",
     "output_type": "stream",
     "text": [
      "{'이름': '한지민', '나이': 26, '주소': '서울시 강남구 역삼동 110-3'}\n"
     ]
    }
   ],
   "source": [
    "print(student)"
   ]
  },
  {
   "cell_type": "code",
   "execution_count": 27,
   "id": "b7eb7903",
   "metadata": {},
   "outputs": [
    {
     "data": {
      "text/plain": [
       "'한지민'"
      ]
     },
     "execution_count": 27,
     "metadata": {},
     "output_type": "execute_result"
    }
   ],
   "source": [
    "student[\"이름\"]"
   ]
  },
  {
   "cell_type": "code",
   "execution_count": 30,
   "id": "fec771f4",
   "metadata": {},
   "outputs": [
    {
     "name": "stdout",
     "output_type": "stream",
     "text": [
      "한지민의 나이는 26살입니다.\n"
     ]
    }
   ],
   "source": [
    "print(student[\"이름\"]+'의 나이는 '+str(student[\"나이\"])+ '살입니다.')"
   ]
  },
  {
   "cell_type": "code",
   "execution_count": 33,
   "id": "a0928c33",
   "metadata": {},
   "outputs": [
    {
     "name": "stdout",
     "output_type": "stream",
     "text": [
      "한지민의 나이는 26살입니다.\n"
     ]
    }
   ],
   "source": [
    "print('{}의 나이는 {}살입니다.'.format(student[\"이름\"], student[\"나이\"]))"
   ]
  },
  {
   "cell_type": "code",
   "execution_count": 36,
   "id": "0aab56a4",
   "metadata": {},
   "outputs": [
    {
     "name": "stdout",
     "output_type": "stream",
     "text": [
      "한지민의 나이는 26입니다.\n"
     ]
    }
   ],
   "source": [
    "print(f\"{student['이름']}의 나이는 {student['나이']}입니다.\")"
   ]
  },
  {
   "cell_type": "code",
   "execution_count": 38,
   "id": "f7e0bbfe",
   "metadata": {},
   "outputs": [],
   "source": [
    "student = {}"
   ]
  },
  {
   "cell_type": "code",
   "execution_count": 42,
   "id": "608c2132",
   "metadata": {},
   "outputs": [
    {
     "name": "stdout",
     "output_type": "stream",
     "text": [
      "What's your name : 한지민\n"
     ]
    }
   ],
   "source": [
    "student[\"이름\"]=input(\"What's your name : \")"
   ]
  },
  {
   "cell_type": "code",
   "execution_count": 48,
   "id": "96edd16c",
   "metadata": {},
   "outputs": [
    {
     "name": "stdout",
     "output_type": "stream",
     "text": [
      "당신의 한국 나이는 : 25\n"
     ]
    }
   ],
   "source": [
    "student[\"나이\"]=int(input(\"당신의 한국 나이는 : \"))-1"
   ]
  },
  {
   "cell_type": "code",
   "execution_count": 50,
   "id": "7427467c",
   "metadata": {},
   "outputs": [
    {
     "name": "stdout",
     "output_type": "stream",
     "text": [
      "당신의 거주지는 ? : 경기도 일산서구\n"
     ]
    }
   ],
   "source": [
    "student[\"주소\"]=input(\"당신의 거주지는 ? : \")"
   ]
  },
  {
   "cell_type": "code",
   "execution_count": null,
   "id": "2564a886",
   "metadata": {},
   "outputs": [],
   "source": []
  }
 ],
 "metadata": {
  "kernelspec": {
   "display_name": "Python 3 (ipykernel)",
   "language": "python",
   "name": "python3"
  },
  "language_info": {
   "codemirror_mode": {
    "name": "ipython",
    "version": 3
   },
   "file_extension": ".py",
   "mimetype": "text/x-python",
   "name": "python",
   "nbconvert_exporter": "python",
   "pygments_lexer": "ipython3",
   "version": "3.11.4"
  }
 },
 "nbformat": 4,
 "nbformat_minor": 5
}

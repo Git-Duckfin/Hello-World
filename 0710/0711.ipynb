{
 "cells": [
  {
   "cell_type": "code",
   "execution_count": 35,
   "id": "717e35cd",
   "metadata": {},
   "outputs": [],
   "source": [
    "## Immutable Data Type\n",
    "import copy"
   ]
  },
  {
   "cell_type": "code",
   "execution_count": 36,
   "id": "90ecd687",
   "metadata": {},
   "outputs": [
    {
     "name": "stdout",
     "output_type": "stream",
     "text": [
      "name = 한지민, irum = 한지민\n"
     ]
    }
   ],
   "source": [
    "name = '한지민'\n",
    "irum = name  #address copy\n",
    "irum = copy.copy(name)  #address copy\n",
    "print(f'name = {name}, irum = {irum}')"
   ]
  },
  {
   "cell_type": "code",
   "execution_count": 8,
   "id": "b21cca80",
   "metadata": {},
   "outputs": [
    {
     "name": "stdout",
     "output_type": "stream",
     "text": [
      "name = 한지민, irum = 김지민\n"
     ]
    }
   ],
   "source": [
    "irum = '김지민'\n",
    "print(f'name = {name}, irum = {irum}')"
   ]
  },
  {
   "cell_type": "code",
   "execution_count": 9,
   "id": "0847ae9f",
   "metadata": {},
   "outputs": [
    {
     "name": "stdout",
     "output_type": "stream",
     "text": [
      "age = 26, age_copy=26\n"
     ]
    }
   ],
   "source": [
    "age = 26\n",
    "age_copy = age\n",
    "print(f'age = {age}, age_copy={age_copy}')"
   ]
  },
  {
   "cell_type": "code",
   "execution_count": 11,
   "id": "9c235a7e",
   "metadata": {},
   "outputs": [
    {
     "name": "stdout",
     "output_type": "stream",
     "text": [
      "age = 46, age_copy=26\n"
     ]
    }
   ],
   "source": [
    "age = 46\n",
    "print(f'age = {age}, age_copy={age_copy}')"
   ]
  },
  {
   "cell_type": "code",
   "execution_count": 13,
   "id": "c0c60967",
   "metadata": {},
   "outputs": [],
   "source": [
    "## Mutable Data Type"
   ]
  },
  {
   "cell_type": "code",
   "execution_count": 24,
   "id": "a747ef1e",
   "metadata": {},
   "outputs": [],
   "source": [
    "list_ = ['Apple', 'Mango', 'Melon', 'Berry']\n",
    "#list_copy = list_\n",
    "list_copy = list_[:]"
   ]
  },
  {
   "cell_type": "code",
   "execution_count": 17,
   "id": "7013881e",
   "metadata": {},
   "outputs": [
    {
     "name": "stdout",
     "output_type": "stream",
     "text": [
      "list_ = ['Apple', 'Mango', 'Melon', 'Berry'], list_copy=['Apple', 'Mango', 'Melon', 'Berry']\n"
     ]
    }
   ],
   "source": [
    "print(f'list_ = {list_}, list_copy={list_copy}')"
   ]
  },
  {
   "cell_type": "code",
   "execution_count": 19,
   "id": "346aaae2",
   "metadata": {},
   "outputs": [],
   "source": [
    "list_copy[0] = 'Grape'"
   ]
  },
  {
   "cell_type": "code",
   "execution_count": 21,
   "id": "176ba977",
   "metadata": {},
   "outputs": [
    {
     "name": "stdout",
     "output_type": "stream",
     "text": [
      "list_ = ['Grape', 'Mango', 'Melon', 'Berry'], list_copy=['Grape', 'Mango', 'Melon', 'Berry']\n"
     ]
    }
   ],
   "source": [
    "print(f'list_ = {list_}, list_copy={list_copy}')"
   ]
  },
  {
   "cell_type": "code",
   "execution_count": 39,
   "id": "6cb17fb1",
   "metadata": {},
   "outputs": [
    {
     "name": "stdout",
     "output_type": "stream",
     "text": [
      "list_ = [['Apple', 'Grape'], 'Mango', 'Melon', 'Berry'], list_copy = [['Apple', 'Grape'], 'Mango', 'Melon', 'Berry']\n"
     ]
    }
   ],
   "source": [
    "list_ = [['Apple', 'Grape'], 'Mango', 'Melon', 'Berry']\n",
    "#list_copy = list_\n",
    "#list_copy=list_[:]\n",
    "list_copy=copy.deepcopy(list_)\n",
    "print(f'list_ = {list_}, list_copy = {list_copy}')"
   ]
  },
  {
   "cell_type": "code",
   "execution_count": 40,
   "id": "af5b35c2",
   "metadata": {},
   "outputs": [
    {
     "name": "stdout",
     "output_type": "stream",
     "text": [
      "list_ = [['Apple', 'Grape'], 'Mango', 'Melon', 'Berry'], list_copy = [[1000, 'Grape'], 'Mango', 'Melon', 'Berry']\n"
     ]
    }
   ],
   "source": [
    "list_copy[0][0]=1000\n",
    "print(f'list_ = {list_}, list_copy = {list_copy}')"
   ]
  },
  {
   "cell_type": "code",
   "execution_count": 42,
   "id": "a9a7b590",
   "metadata": {},
   "outputs": [
    {
     "data": {
      "text/plain": [
       "'a,b,c,d,e,f,g,h,i'"
      ]
     },
     "execution_count": 42,
     "metadata": {},
     "output_type": "execute_result"
    }
   ],
   "source": [
    "','.join('abcdefghi')"
   ]
  },
  {
   "cell_type": "code",
   "execution_count": 45,
   "id": "7850d348",
   "metadata": {},
   "outputs": [
    {
     "name": "stdout",
     "output_type": "stream",
     "text": [
      "좋아하는 계절은(spring/summner/fall/winter) ? : spring\n",
      "개나리, 진달래\n",
      "season = spring\n"
     ]
    }
   ],
   "source": [
    "season = input('좋아하는 계절은(spring/summner/fall/winter) ? : ')\n",
    "season = season.lower()\n",
    "if season == \"spring\" : \n",
    "    print('개나리, 진달래')\n",
    "elif season == \"summer\" :\n",
    "     print('장미, 아카시아')\n",
    "elif season == \"fall\" :\n",
    "     print('백합, 코스모스')\n",
    "else : \n",
    "     print('동백, 매화')\n",
    "print('season = %s' % season)"
   ]
  },
  {
   "cell_type": "code",
   "execution_count": 47,
   "id": "aa9118f1",
   "metadata": {},
   "outputs": [
    {
     "name": "stdout",
     "output_type": "stream",
     "text": [
      "1, 2, 3, 4, 5, "
     ]
    }
   ],
   "source": [
    "list_ = [1,2,3,4,5]\n",
    "for i in list_ : \n",
    "    print(i, end = ', ')"
   ]
  },
  {
   "cell_type": "code",
   "execution_count": 51,
   "id": "b34be223",
   "metadata": {},
   "outputs": [
    {
     "name": "stdout",
     "output_type": "stream",
     "text": [
      "6\t12\t18\t24\t\n",
      "30\t36\t42\t48\t\n",
      "54\t60\t66\t72\t\n",
      "78\t84\t90\t96\t\n"
     ]
    }
   ],
   "source": [
    "count = 0\n",
    "\n",
    "for i in range(1, 101) :\n",
    "    if i % 6 == 0 :\n",
    "        print(i, end = '\\t')\n",
    "        count = count + 1\n",
    "        if count % 4 == 0 :\n",
    "             print()"
   ]
  },
  {
   "cell_type": "code",
   "execution_count": 56,
   "id": "bcde82cf",
   "metadata": {},
   "outputs": [
    {
     "name": "stdout",
     "output_type": "stream",
     "text": [
      "10\n"
     ]
    }
   ],
   "source": [
    "fpoint = open('demo.txt', 'r', encoding='utf8')\n",
    "#print(fpoint.read())\n",
    "list_ = fpoint.readlines()\n",
    "print(len(list_))\n",
    "fpoint.close()"
   ]
  },
  {
   "cell_type": "code",
   "execution_count": 58,
   "id": "d916d1cf",
   "metadata": {},
   "outputs": [
    {
     "name": "stdout",
     "output_type": "stream",
     "text": [
      "죽는 날까지 하늘을 우러러\n",
      "한 점 부끄럼이 없기를,\n",
      "잎새에 이는 바람에도\n",
      "나는 괴로워했다.\n",
      "별을 노래하는 마음으로\n",
      "모든 죽어 가는 것을 사랑해야지\n",
      "그리고 나한테 주어진 길을\n",
      "걸어가야겠다.\n",
      "\n",
      "오늘 밤에도 별이 바람에 스치운다."
     ]
    }
   ],
   "source": [
    "fpoint = open('demo.txt', 'r', encoding='utf8')\n",
    "while True :\n",
    "    line = fpoint.readline()\n",
    "    if not line : break\n",
    "    print(line, end = '')\n",
    "fpoint.close()"
   ]
  }
 ],
 "metadata": {
  "kernelspec": {
   "display_name": "Python 3 (ipykernel)",
   "language": "python",
   "name": "python3"
  },
  "language_info": {
   "codemirror_mode": {
    "name": "ipython",
    "version": 3
   },
   "file_extension": ".py",
   "mimetype": "text/x-python",
   "name": "python",
   "nbconvert_exporter": "python",
   "pygments_lexer": "ipython3",
   "version": "3.11.4"
  }
 },
 "nbformat": 4,
 "nbformat_minor": 5
}
